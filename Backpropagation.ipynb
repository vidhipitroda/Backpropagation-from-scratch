{
  "nbformat": 4,
  "nbformat_minor": 0,
  "metadata": {
    "kernelspec": {
      "display_name": "Python 3",
      "language": "python",
      "name": "python3"
    },
    "language_info": {
      "codemirror_mode": {
        "name": "ipython",
        "version": 3
      },
      "file_extension": ".py",
      "mimetype": "text/x-python",
      "name": "python",
      "nbconvert_exporter": "python",
      "pygments_lexer": "ipython3",
      "version": "3.7.4"
    },
    "colab": {
      "name": "Backpropagation.ipynb",
      "provenance": [],
      "include_colab_link": true
    }
  },
  "cells": [
    {
      "cell_type": "markdown",
      "metadata": {
        "id": "view-in-github",
        "colab_type": "text"
      },
      "source": [
        "<a href=\"https://colab.research.google.com/github/vidhipitroda/Backpropagation-from-scratch/blob/master/Backpropagation.ipynb\" target=\"_parent\"><img src=\"https://colab.research.google.com/assets/colab-badge.svg\" alt=\"Open In Colab\"/></a>"
      ]
    },
    {
      "cell_type": "markdown",
      "metadata": {
        "id": "RGP539EFmaHk",
        "colab_type": "text"
      },
      "source": [
        "Backpropagation"
      ]
    },
    {
      "cell_type": "code",
      "metadata": {
        "id": "62SITQJKmaHn",
        "colab_type": "code",
        "colab": {}
      },
      "source": [
        "import pandas as pd\n",
        "import numpy as np\n",
        "from sklearn import preprocessing\n",
        "from random import random\n",
        "from random import seed\n",
        "import matplotlib.pyplot as plt\n",
        "from math import exp\n",
        "\n",
        "from sklearn.model_selection import train_test_split"
      ],
      "execution_count": 0,
      "outputs": []
    },
    {
      "cell_type": "markdown",
      "metadata": {
        "id": "bp0D7BJImaHu",
        "colab_type": "text"
      },
      "source": [
        "Fetching the dataset and performing preprocessing steps"
      ]
    },
    {
      "cell_type": "code",
      "metadata": {
        "id": "l1Vj6ltumaHv",
        "colab_type": "code",
        "colab": {},
        "outputId": "e3695d7b-001f-4b10-fa3d-67a103c7237b"
      },
      "source": [
        "#providing the path for dataset\n",
        "dataset = pd.read_csv(r'..transfusion.csv') \n",
        "#printing the first 5 columns of the dataset\n",
        "dataset.head()"
      ],
      "execution_count": 0,
      "outputs": [
        {
          "output_type": "execute_result",
          "data": {
            "text/html": [
              "<div>\n",
              "<style scoped>\n",
              "    .dataframe tbody tr th:only-of-type {\n",
              "        vertical-align: middle;\n",
              "    }\n",
              "\n",
              "    .dataframe tbody tr th {\n",
              "        vertical-align: top;\n",
              "    }\n",
              "\n",
              "    .dataframe thead th {\n",
              "        text-align: right;\n",
              "    }\n",
              "</style>\n",
              "<table border=\"1\" class=\"dataframe\">\n",
              "  <thead>\n",
              "    <tr style=\"text-align: right;\">\n",
              "      <th></th>\n",
              "      <th>Recency (months)</th>\n",
              "      <th>Frequency (times)</th>\n",
              "      <th>Monetary (c.c. blood)</th>\n",
              "      <th>Time (months)</th>\n",
              "      <th>whether he/she donated blood in March 2007</th>\n",
              "    </tr>\n",
              "  </thead>\n",
              "  <tbody>\n",
              "    <tr>\n",
              "      <td>0</td>\n",
              "      <td>2</td>\n",
              "      <td>50</td>\n",
              "      <td>12500</td>\n",
              "      <td>98</td>\n",
              "      <td>1</td>\n",
              "    </tr>\n",
              "    <tr>\n",
              "      <td>1</td>\n",
              "      <td>0</td>\n",
              "      <td>13</td>\n",
              "      <td>3250</td>\n",
              "      <td>28</td>\n",
              "      <td>1</td>\n",
              "    </tr>\n",
              "    <tr>\n",
              "      <td>2</td>\n",
              "      <td>1</td>\n",
              "      <td>16</td>\n",
              "      <td>4000</td>\n",
              "      <td>35</td>\n",
              "      <td>1</td>\n",
              "    </tr>\n",
              "    <tr>\n",
              "      <td>3</td>\n",
              "      <td>2</td>\n",
              "      <td>20</td>\n",
              "      <td>5000</td>\n",
              "      <td>45</td>\n",
              "      <td>1</td>\n",
              "    </tr>\n",
              "    <tr>\n",
              "      <td>4</td>\n",
              "      <td>1</td>\n",
              "      <td>24</td>\n",
              "      <td>6000</td>\n",
              "      <td>77</td>\n",
              "      <td>0</td>\n",
              "    </tr>\n",
              "  </tbody>\n",
              "</table>\n",
              "</div>"
            ],
            "text/plain": [
              "   Recency (months)  Frequency (times)  Monetary (c.c. blood)  Time (months)  \\\n",
              "0                 2                 50                  12500             98   \n",
              "1                 0                 13                   3250             28   \n",
              "2                 1                 16                   4000             35   \n",
              "3                 2                 20                   5000             45   \n",
              "4                 1                 24                   6000             77   \n",
              "\n",
              "   whether he/she donated blood in March 2007  \n",
              "0                                           1  \n",
              "1                                           1  \n",
              "2                                           1  \n",
              "3                                           1  \n",
              "4                                           0  "
            ]
          },
          "metadata": {
            "tags": []
          },
          "execution_count": 2
        }
      ]
    },
    {
      "cell_type": "code",
      "metadata": {
        "id": "H2qdCsQymaH0",
        "colab_type": "code",
        "colab": {}
      },
      "source": [
        "#Renaming the dataset columns\n",
        "dataset = dataset.rename(columns={\"Recency (months)\":\"Months\",\"Frequency (times)\":\"Frequency\",\"Time (months)\":\"Time\",\"whether he/she donated blood in March 2007\":\"final\"})"
      ],
      "execution_count": 0,
      "outputs": []
    },
    {
      "cell_type": "code",
      "metadata": {
        "id": "HVaVnFCwmaH6",
        "colab_type": "code",
        "colab": {},
        "outputId": "3e8c7572-7f72-47d8-9482-808eb0021135"
      },
      "source": [
        "#shuffling the dataset\n",
        "dataset = dataset.sample(frac=1).reset_index(drop=True) # Shuffle\n",
        "#seperating the labels \n",
        "final = dataset[['final']]\n",
        "#storing the input features in dataset\n",
        "dataset = dataset[['Months', 'Frequency', 'Monetary (c.c. blood)', 'Time']]\n",
        "dataset.head()"
      ],
      "execution_count": 0,
      "outputs": [
        {
          "output_type": "execute_result",
          "data": {
            "text/html": [
              "<div>\n",
              "<style scoped>\n",
              "    .dataframe tbody tr th:only-of-type {\n",
              "        vertical-align: middle;\n",
              "    }\n",
              "\n",
              "    .dataframe tbody tr th {\n",
              "        vertical-align: top;\n",
              "    }\n",
              "\n",
              "    .dataframe thead th {\n",
              "        text-align: right;\n",
              "    }\n",
              "</style>\n",
              "<table border=\"1\" class=\"dataframe\">\n",
              "  <thead>\n",
              "    <tr style=\"text-align: right;\">\n",
              "      <th></th>\n",
              "      <th>Months</th>\n",
              "      <th>Frequency</th>\n",
              "      <th>Monetary (c.c. blood)</th>\n",
              "      <th>Time</th>\n",
              "    </tr>\n",
              "  </thead>\n",
              "  <tbody>\n",
              "    <tr>\n",
              "      <td>0</td>\n",
              "      <td>16</td>\n",
              "      <td>7</td>\n",
              "      <td>1750</td>\n",
              "      <td>64</td>\n",
              "    </tr>\n",
              "    <tr>\n",
              "      <td>1</td>\n",
              "      <td>2</td>\n",
              "      <td>4</td>\n",
              "      <td>1000</td>\n",
              "      <td>16</td>\n",
              "    </tr>\n",
              "    <tr>\n",
              "      <td>2</td>\n",
              "      <td>14</td>\n",
              "      <td>2</td>\n",
              "      <td>500</td>\n",
              "      <td>21</td>\n",
              "    </tr>\n",
              "    <tr>\n",
              "      <td>3</td>\n",
              "      <td>4</td>\n",
              "      <td>8</td>\n",
              "      <td>2000</td>\n",
              "      <td>21</td>\n",
              "    </tr>\n",
              "    <tr>\n",
              "      <td>4</td>\n",
              "      <td>3</td>\n",
              "      <td>5</td>\n",
              "      <td>1250</td>\n",
              "      <td>12</td>\n",
              "    </tr>\n",
              "  </tbody>\n",
              "</table>\n",
              "</div>"
            ],
            "text/plain": [
              "   Months  Frequency  Monetary (c.c. blood)  Time\n",
              "0      16          7                   1750    64\n",
              "1       2          4                   1000    16\n",
              "2      14          2                    500    21\n",
              "3       4          8                   2000    21\n",
              "4       3          5                   1250    12"
            ]
          },
          "metadata": {
            "tags": []
          },
          "execution_count": 4
        }
      ]
    },
    {
      "cell_type": "markdown",
      "metadata": {
        "id": "uConISs7maIA",
        "colab_type": "text"
      },
      "source": [
        "Normalize the dataset"
      ]
    },
    {
      "cell_type": "code",
      "metadata": {
        "id": "gDUVDAJ6maIB",
        "colab_type": "code",
        "colab": {},
        "outputId": "d6dba33e-c0ae-4d7e-a4ba-b5adbbcebb7a"
      },
      "source": [
        "#normalization of the input data\n",
        "min_max_scaler = preprocessing.MinMaxScaler()\n",
        "x_scaled = min_max_scaler.fit_transform(dataset)\n",
        "df_norm= pd.DataFrame(x_scaled)\n",
        "print(\"the normalized data\\n\",df_norm)\n",
        "\n"
      ],
      "execution_count": 0,
      "outputs": [
        {
          "output_type": "stream",
          "text": [
            "the normalized data\n",
            "             0         1         2         3\n",
            "0    0.216216  0.122449  0.122449  0.645833\n",
            "1    0.027027  0.061224  0.061224  0.145833\n",
            "2    0.189189  0.020408  0.020408  0.197917\n",
            "3    0.054054  0.142857  0.142857  0.197917\n",
            "4    0.040541  0.081633  0.081633  0.104167\n",
            "..        ...       ...       ...       ...\n",
            "743  0.027027  0.020408  0.020408  0.093750\n",
            "744  0.216216  0.183673  0.183673  0.625000\n",
            "745  0.310811  0.000000  0.000000  0.218750\n",
            "746  0.027027  0.122449  0.122449  0.125000\n",
            "747  0.148649  0.020408  0.020408  0.093750\n",
            "\n",
            "[748 rows x 4 columns]\n"
          ],
          "name": "stdout"
        }
      ]
    },
    {
      "cell_type": "code",
      "metadata": {
        "id": "Wuw0GSfrmaIG",
        "colab_type": "code",
        "colab": {}
      },
      "source": [
        "#combining the normalized data with the labels\n",
        "df = pd.concat([df_norm, final], axis=1)\n"
      ],
      "execution_count": 0,
      "outputs": []
    },
    {
      "cell_type": "markdown",
      "metadata": {
        "id": "FL0HcT2smaIN",
        "colab_type": "text"
      },
      "source": [
        "Splitting the dataset"
      ]
    },
    {
      "cell_type": "code",
      "metadata": {
        "id": "5A-18fSxmaIQ",
        "colab_type": "code",
        "colab": {},
        "outputId": "ee4248be-7689-4aab-9252-0a9fd6857370"
      },
      "source": [
        "#splitting the data into training and testing\n",
        "X, X_test, y, y_test = train_test_split(df_norm, final, test_size=0.2, random_state=42)\n",
        "X = X.to_numpy()\n",
        "print(\"shape of training data\",X.shape)\n",
        "print(\"shape of testing data\",y.shape)"
      ],
      "execution_count": 0,
      "outputs": [
        {
          "output_type": "stream",
          "text": [
            "shape of training data (598, 4)\n",
            "shape of testing data (598, 1)\n"
          ],
          "name": "stdout"
        }
      ]
    },
    {
      "cell_type": "markdown",
      "metadata": {
        "id": "yLFf5GRVmaIW",
        "colab_type": "text"
      },
      "source": [
        "Performing one hot encoding"
      ]
    },
    {
      "cell_type": "code",
      "metadata": {
        "id": "dG-lH3C5maIX",
        "colab_type": "code",
        "colab": {},
        "outputId": "0ad590a6-54db-4429-a51b-dc4994575f69"
      },
      "source": [
        "#performing one hot encoding on training labels\n",
        "# 1. INSTANTIATE\n",
        "enc = preprocessing.OneHotEncoder()\n",
        "\n",
        "# 2. FIT\n",
        "enc.fit(y)\n",
        "\n",
        "# 3. Transform\n",
        "y = enc.transform(y).toarray()\n",
        "y"
      ],
      "execution_count": 0,
      "outputs": [
        {
          "output_type": "stream",
          "text": [
            "C:\\ProgramData\\Anaconda3\\lib\\site-packages\\sklearn\\preprocessing\\_encoders.py:415: FutureWarning: The handling of integer data will change in version 0.22. Currently, the categories are determined based on the range [0, max(values)], while in the future they will be determined based on the unique values.\n",
            "If you want the future behaviour and silence this warning, you can specify \"categories='auto'\".\n",
            "In case you used a LabelEncoder before this OneHotEncoder to convert the categories to integers, then you can now use the OneHotEncoder directly.\n",
            "  warnings.warn(msg, FutureWarning)\n"
          ],
          "name": "stderr"
        },
        {
          "output_type": "execute_result",
          "data": {
            "text/plain": [
              "array([[1., 0.],\n",
              "       [1., 0.],\n",
              "       [0., 1.],\n",
              "       ...,\n",
              "       [1., 0.],\n",
              "       [1., 0.],\n",
              "       [1., 0.]])"
            ]
          },
          "metadata": {
            "tags": []
          },
          "execution_count": 8
        }
      ]
    },
    {
      "cell_type": "code",
      "metadata": {
        "id": "JTC9Oeg9maId",
        "colab_type": "code",
        "colab": {}
      },
      "source": [
        "\n"
      ],
      "execution_count": 0,
      "outputs": []
    },
    {
      "cell_type": "code",
      "metadata": {
        "id": "i63Z-qFDmaIi",
        "colab_type": "code",
        "colab": {},
        "outputId": "d057cf0d-a099-4de2-99d2-bb001a84e070"
      },
      "source": [
        "#performing one hot encoding on testing labels\n",
        "# 1. INSTANTIATE\n",
        "enc = preprocessing.OneHotEncoder()\n",
        "\n",
        "# 2. FIT\n",
        "enc.fit(y_test)\n",
        "\n",
        "# 3. Transform\n",
        "y1 = enc.transform(y_test).toarray()\n"
      ],
      "execution_count": 0,
      "outputs": [
        {
          "output_type": "stream",
          "text": [
            "C:\\ProgramData\\Anaconda3\\lib\\site-packages\\sklearn\\preprocessing\\_encoders.py:415: FutureWarning: The handling of integer data will change in version 0.22. Currently, the categories are determined based on the range [0, max(values)], while in the future they will be determined based on the unique values.\n",
            "If you want the future behaviour and silence this warning, you can specify \"categories='auto'\".\n",
            "In case you used a LabelEncoder before this OneHotEncoder to convert the categories to integers, then you can now use the OneHotEncoder directly.\n",
            "  warnings.warn(msg, FutureWarning)\n"
          ],
          "name": "stderr"
        }
      ]
    },
    {
      "cell_type": "markdown",
      "metadata": {
        "id": "8xOkzwygmaIm",
        "colab_type": "text"
      },
      "source": [
        "Generating hidden layers and their weights"
      ]
    },
    {
      "cell_type": "code",
      "metadata": {
        "id": "zVXkMm5gmaIn",
        "colab_type": "code",
        "colab": {}
      },
      "source": [
        "#Generating the weights for hidden layers\n",
        "num_inputs = len(X[0])\n",
        "num_outputs = len(y[0])\n",
        "bais = 1\n",
        "def addinv(hidden_layer_neuron1,hidden_layer_neuron2,hidden_layer_neuron3,hidden_layer_neuron4):\n",
        "    w1 = 2*np.random.random((num_inputs, hidden_layer_neuron1)) - 1 \n",
        "    w2 = 2*np.random.random((hidden_layer_neuron1,hidden_layer_neuron2)) -1\n",
        "    w3 = 2*np.random.random((hidden_layer_neuron2,hidden_layer_neuron3)) -1\n",
        "    w4 = 2*np.random.random((hidden_layer_neuron3,hidden_layer_neuron4)) -1\n",
        "    w5 = 2*np.random.random((hidden_layer_neuron4, num_outputs)) -1\n",
        "   \n",
        "    return w1,w2,w3,w4,w5\n",
        "w1,w2,w3,w4,w5 = addinv(6,6,6,6)"
      ],
      "execution_count": 0,
      "outputs": []
    },
    {
      "cell_type": "code",
      "metadata": {
        "id": "SKzEeElnmaIq",
        "colab_type": "code",
        "colab": {}
      },
      "source": [
        "learning_momentum = 0.01\n",
        "#function for calculating activation function\n",
        "def sigmoid(Z):\n",
        "    A = 1 / (1 + np.exp(-Z))\n",
        "    return A\n",
        "#function for weight updation\n",
        "def update_weight(l,delta,learning_rate):\n",
        "    \n",
        "    a = l.T.dot(delta)*learning_rate\n",
        "    return a\n",
        "#function for calulation delta\n",
        "def sigmoid_prime(x):\n",
        "    return x *(1-x)\n",
        "\n"
      ],
      "execution_count": 0,
      "outputs": []
    },
    {
      "cell_type": "markdown",
      "metadata": {
        "id": "d_9mgZZxmaIu",
        "colab_type": "text"
      },
      "source": [
        "Forward Propagation"
      ]
    },
    {
      "cell_type": "code",
      "metadata": {
        "id": "860r3LMTmaIv",
        "colab_type": "code",
        "colab": {}
      },
      "source": [
        "def forward():\n",
        "    for epoch in range(500):\n",
        "        layer1 = np.dot(X, w1)+bais\n",
        "        l1 = sigmoid(layer1)\n",
        "    \n",
        "        layer2 = np.dot(l1,w2) + bais\n",
        "        l2 = sigmoid(layer2)\n",
        "    \n",
        "        layer3 = np.dot(l2,w3) + bais\n",
        "        l3 = sigmoid(layer3)\n",
        "    \n",
        "        layer4 = np.dot(l3,w4) + bais\n",
        "        l4 = sigmoid(layer4)\n",
        "  \n",
        "        layer5 = np.dot(l4,w5) \n",
        "        l5 = sigmoid(layer5)\n",
        "    \n",
        "    #calculating the error rate for back propagation\n",
        "    er = (abs(y - l5)).mean()\n",
        "    print(\"the total error encountered in forward propagation\",er)\n",
        "    return l1,l2,l3,l4,l5\n",
        "        "
      ],
      "execution_count": 0,
      "outputs": []
    },
    {
      "cell_type": "markdown",
      "metadata": {
        "id": "SHEn_-mYmaI1",
        "colab_type": "text"
      },
      "source": [
        "updating the weights based on the error (Backpropagation)"
      ]
    },
    {
      "cell_type": "code",
      "metadata": {
        "id": "qXz0wAsPmaI3",
        "colab_type": "code",
        "colab": {},
        "outputId": "b442f8f2-b743-4974-a173-e883734f418b"
      },
      "source": [
        "l1,l2,l3,l4,l5 = forward()\n",
        "for epoch in range(500):\n",
        "    \n",
        "    \n",
        "    #calculating delta value\n",
        "    l5_delta = (y - l5)* sigmoid_prime(l5)\n",
        "   \n",
        "    l4_delta = l5_delta.dot(w5.T) * sigmoid_prime(l4)\n",
        " \n",
        "    l3_delta = l4_delta.dot(w4.T) * sigmoid_prime(l3)\n",
        "    \n",
        "    l2_delta = l3_delta.dot(w3.T) * sigmoid_prime(l2)\n",
        "\n",
        "    l1_delta = l2_delta.dot(w2.T) * sigmoid_prime(l1)\n",
        "    #updating the weights\n",
        "    w5 += update_weight(l4,l5_delta,0.1)\n",
        "   \n",
        "    w4 += update_weight(l3,l4_delta,0.1)\n",
        "\n",
        "    w3 += update_weight(l2,l3_delta,0.1)\n",
        " \n",
        "    w2 += update_weight(l1,l2_delta,0.1)\n",
        "    \n",
        "    w1 += update_weight(X,l1_delta,0.1)\n"
      ],
      "execution_count": 0,
      "outputs": [
        {
          "output_type": "stream",
          "text": [
            "the total error encountered in forward propagation 0.4857397531302229\n"
          ],
          "name": "stdout"
        }
      ]
    },
    {
      "cell_type": "markdown",
      "metadata": {
        "id": "nbBvJXQUmaI6",
        "colab_type": "text"
      },
      "source": [
        "Testing the model and finding out the accuracy"
      ]
    },
    {
      "cell_type": "code",
      "metadata": {
        "id": "NhrMBo87maI9",
        "colab_type": "code",
        "colab": {}
      },
      "source": [
        "\n",
        "\n",
        "l1 = 1/(1 + np.exp(-(np.dot(X_test,w1))))\n",
        "l2 = 1/(1 + np.exp(-(np.dot(l1,w2))))\n",
        "l3 = 1/(1 + np.exp(-(np.dot(l2,w3))))\n",
        "l4 = 1/(1 + np.exp(-(np.dot(l3,w4))))\n",
        "l5 = 1/(1 + np.exp(-(np.dot(l4,w5))))\n",
        "#X.shape\n",
        "#y.shape\n"
      ],
      "execution_count": 0,
      "outputs": []
    },
    {
      "cell_type": "code",
      "metadata": {
        "id": "ZkAT93WImaJB",
        "colab_type": "code",
        "colab": {},
        "outputId": "d22eb360-c793-410c-94fb-e30dc417cfed"
      },
      "source": [
        "#predicting the values and calculating accuracy\n",
        "yp = np.argmax(l5, axis=1) # prediction \n",
        "res = yp == np.argmax(y1, axis=1)\n",
        "correct = np.sum(res)/len(res)\n",
        "\n",
        "print('Correct:',sum(res),'/',len(res), ': Accuracy :', (correct*100),'%')\n"
      ],
      "execution_count": 0,
      "outputs": [
        {
          "output_type": "stream",
          "text": [
            "Correct: 120 / 150 : Accuracy : 80.0 %\n"
          ],
          "name": "stdout"
        }
      ]
    },
    {
      "cell_type": "code",
      "metadata": {
        "id": "AWoN8kvnmaJF",
        "colab_type": "code",
        "colab": {}
      },
      "source": [
        ""
      ],
      "execution_count": 0,
      "outputs": []
    },
    {
      "cell_type": "markdown",
      "metadata": {
        "id": "EmEKo7MnmaJI",
        "colab_type": "text"
      },
      "source": [
        ""
      ]
    },
    {
      "cell_type": "code",
      "metadata": {
        "id": "IeVmLMiqmaJJ",
        "colab_type": "code",
        "colab": {}
      },
      "source": [
        ""
      ],
      "execution_count": 0,
      "outputs": []
    },
    {
      "cell_type": "code",
      "metadata": {
        "id": "N-CAst1fmaJO",
        "colab_type": "code",
        "colab": {}
      },
      "source": [
        "\n",
        "    "
      ],
      "execution_count": 0,
      "outputs": []
    },
    {
      "cell_type": "code",
      "metadata": {
        "id": "83D-UsiMmaJS",
        "colab_type": "code",
        "colab": {}
      },
      "source": [
        ""
      ],
      "execution_count": 0,
      "outputs": []
    },
    {
      "cell_type": "code",
      "metadata": {
        "id": "cvNRik9DmaJV",
        "colab_type": "code",
        "colab": {}
      },
      "source": [
        ""
      ],
      "execution_count": 0,
      "outputs": []
    },
    {
      "cell_type": "code",
      "metadata": {
        "scrolled": true,
        "id": "6jFsVe74maJY",
        "colab_type": "code",
        "colab": {}
      },
      "source": [
        ""
      ],
      "execution_count": 0,
      "outputs": []
    },
    {
      "cell_type": "code",
      "metadata": {
        "id": "5EiUgPSBmaJc",
        "colab_type": "code",
        "colab": {}
      },
      "source": [
        ""
      ],
      "execution_count": 0,
      "outputs": []
    },
    {
      "cell_type": "code",
      "metadata": {
        "id": "VELMpX19maJg",
        "colab_type": "code",
        "colab": {}
      },
      "source": [
        ""
      ],
      "execution_count": 0,
      "outputs": []
    },
    {
      "cell_type": "code",
      "metadata": {
        "id": "vqtuC78LmaJj",
        "colab_type": "code",
        "colab": {}
      },
      "source": [
        "\n",
        " "
      ],
      "execution_count": 0,
      "outputs": []
    },
    {
      "cell_type": "code",
      "metadata": {
        "id": "ouFto5ERmaJn",
        "colab_type": "code",
        "colab": {}
      },
      "source": [
        ""
      ],
      "execution_count": 0,
      "outputs": []
    },
    {
      "cell_type": "code",
      "metadata": {
        "id": "qY2zwqBFmaJr",
        "colab_type": "code",
        "colab": {}
      },
      "source": [
        "\n",
        "\n"
      ],
      "execution_count": 0,
      "outputs": []
    },
    {
      "cell_type": "code",
      "metadata": {
        "id": "lC_FhfoKmaJv",
        "colab_type": "code",
        "colab": {}
      },
      "source": [
        "\n"
      ],
      "execution_count": 0,
      "outputs": []
    },
    {
      "cell_type": "code",
      "metadata": {
        "id": "7ZOpQD_fmaJ0",
        "colab_type": "code",
        "colab": {}
      },
      "source": [
        ""
      ],
      "execution_count": 0,
      "outputs": []
    }
  ]
}